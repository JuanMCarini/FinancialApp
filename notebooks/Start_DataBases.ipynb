{
 "cells": [
  {
   "cell_type": "markdown",
   "metadata": {},
   "source": [
    "# Financial App"
   ]
  },
  {
   "cell_type": "code",
   "execution_count": 17,
   "metadata": {},
   "outputs": [
    {
     "name": "stdout",
     "output_type": "stream",
     "text": [
      "Now in directory: c:\\Users\\juanm_8qa8lav\\Documents\\Proyectos_Personales\\FinancialApp\n"
     ]
    }
   ],
   "source": [
    "import os\n",
    "import pandas as pd\n",
    "\n",
    "# Get the current working directory\n",
    "os.chdir(\"c:/Users/juanm_8qa8lav/Documents/Proyectos_Personales/FinancialApp\")\n",
    "# Verify the current working directory\n",
    "print(f\"Now in directory: {os.getcwd()}\")\n",
    "\n",
    "# Import your module\n",
    "from app.modules.database.connection import engine\n",
    "import app.modules.database.credit_manager as credit_manager\n",
    "import app.modules.database.portfolio_manager as portfolio_manager\n",
    "import app.modules.database.customers as customers\n",
    "\n",
    "from importlib import reload\n",
    "\n",
    "# %run logs/run_log.py"
   ]
  },
  {
   "cell_type": "code",
   "execution_count": 18,
   "metadata": {},
   "outputs": [
    {
     "name": "stdout",
     "output_type": "stream",
     "text": [
      "Deuda Total: $ 23,489,039.43\n"
     ]
    },
    {
     "data": {
      "text/html": [
       "<div>\n",
       "<style scoped>\n",
       "    .dataframe tbody tr th:only-of-type {\n",
       "        vertical-align: middle;\n",
       "    }\n",
       "\n",
       "    .dataframe tbody tr th {\n",
       "        vertical-align: top;\n",
       "    }\n",
       "\n",
       "    .dataframe thead th {\n",
       "        text-align: right;\n",
       "    }\n",
       "</style>\n",
       "<table border=\"1\" class=\"dataframe\">\n",
       "  <thead>\n",
       "    <tr style=\"text-align: right;\">\n",
       "      <th></th>\n",
       "      <th>ID_Op</th>\n",
       "      <th>Nro_Inst</th>\n",
       "      <th>D_Due</th>\n",
       "      <th>Capital</th>\n",
       "      <th>Interest</th>\n",
       "      <th>IVA</th>\n",
       "      <th>Total</th>\n",
       "      <th>ID_Owner</th>\n",
       "    </tr>\n",
       "    <tr>\n",
       "      <th>ID</th>\n",
       "      <th></th>\n",
       "      <th></th>\n",
       "      <th></th>\n",
       "      <th></th>\n",
       "      <th></th>\n",
       "      <th></th>\n",
       "      <th></th>\n",
       "      <th></th>\n",
       "    </tr>\n",
       "  </thead>\n",
       "  <tbody>\n",
       "    <tr>\n",
       "      <th>1</th>\n",
       "      <td>1</td>\n",
       "      <td>1</td>\n",
       "      <td>2022-10-20</td>\n",
       "      <td>0.00</td>\n",
       "      <td>0.00</td>\n",
       "      <td>0.0</td>\n",
       "      <td>0.00</td>\n",
       "      <td>1</td>\n",
       "    </tr>\n",
       "    <tr>\n",
       "      <th>2</th>\n",
       "      <td>1</td>\n",
       "      <td>2</td>\n",
       "      <td>2022-11-20</td>\n",
       "      <td>0.00</td>\n",
       "      <td>0.00</td>\n",
       "      <td>0.0</td>\n",
       "      <td>0.00</td>\n",
       "      <td>1</td>\n",
       "    </tr>\n",
       "    <tr>\n",
       "      <th>3</th>\n",
       "      <td>1</td>\n",
       "      <td>3</td>\n",
       "      <td>2022-12-20</td>\n",
       "      <td>0.00</td>\n",
       "      <td>0.00</td>\n",
       "      <td>0.0</td>\n",
       "      <td>0.00</td>\n",
       "      <td>1</td>\n",
       "    </tr>\n",
       "    <tr>\n",
       "      <th>4</th>\n",
       "      <td>1</td>\n",
       "      <td>4</td>\n",
       "      <td>2023-01-20</td>\n",
       "      <td>5844.58</td>\n",
       "      <td>11610.23</td>\n",
       "      <td>0.0</td>\n",
       "      <td>17454.81</td>\n",
       "      <td>1</td>\n",
       "    </tr>\n",
       "    <tr>\n",
       "      <th>5</th>\n",
       "      <td>1</td>\n",
       "      <td>5</td>\n",
       "      <td>2023-02-20</td>\n",
       "      <td>6309.57</td>\n",
       "      <td>11225.94</td>\n",
       "      <td>0.0</td>\n",
       "      <td>17535.51</td>\n",
       "      <td>1</td>\n",
       "    </tr>\n",
       "    <tr>\n",
       "      <th>...</th>\n",
       "      <td>...</td>\n",
       "      <td>...</td>\n",
       "      <td>...</td>\n",
       "      <td>...</td>\n",
       "      <td>...</td>\n",
       "      <td>...</td>\n",
       "      <td>...</td>\n",
       "      <td>...</td>\n",
       "    </tr>\n",
       "    <tr>\n",
       "      <th>2726</th>\n",
       "      <td>152</td>\n",
       "      <td>14</td>\n",
       "      <td>2024-08-20</td>\n",
       "      <td>10337.92</td>\n",
       "      <td>7817.81</td>\n",
       "      <td>0.0</td>\n",
       "      <td>18155.72</td>\n",
       "      <td>1</td>\n",
       "    </tr>\n",
       "    <tr>\n",
       "      <th>2727</th>\n",
       "      <td>152</td>\n",
       "      <td>15</td>\n",
       "      <td>2024-09-20</td>\n",
       "      <td>11520.26</td>\n",
       "      <td>6840.66</td>\n",
       "      <td>0.0</td>\n",
       "      <td>18360.92</td>\n",
       "      <td>1</td>\n",
       "    </tr>\n",
       "    <tr>\n",
       "      <th>2728</th>\n",
       "      <td>152</td>\n",
       "      <td>16</td>\n",
       "      <td>2024-10-20</td>\n",
       "      <td>12837.84</td>\n",
       "      <td>5751.76</td>\n",
       "      <td>0.0</td>\n",
       "      <td>18589.59</td>\n",
       "      <td>1</td>\n",
       "    </tr>\n",
       "    <tr>\n",
       "      <th>2729</th>\n",
       "      <td>152</td>\n",
       "      <td>17</td>\n",
       "      <td>2024-11-20</td>\n",
       "      <td>14306.10</td>\n",
       "      <td>4538.31</td>\n",
       "      <td>0.0</td>\n",
       "      <td>18844.41</td>\n",
       "      <td>1</td>\n",
       "    </tr>\n",
       "    <tr>\n",
       "      <th>2730</th>\n",
       "      <td>152</td>\n",
       "      <td>18</td>\n",
       "      <td>2024-12-20</td>\n",
       "      <td>15942.29</td>\n",
       "      <td>3186.09</td>\n",
       "      <td>0.0</td>\n",
       "      <td>19128.38</td>\n",
       "      <td>1</td>\n",
       "    </tr>\n",
       "  </tbody>\n",
       "</table>\n",
       "<p>2730 rows × 8 columns</p>\n",
       "</div>"
      ],
      "text/plain": [
       "      ID_Op  Nro_Inst      D_Due   Capital  Interest  IVA     Total  ID_Owner\n",
       "ID                                                                           \n",
       "1         1         1 2022-10-20      0.00      0.00  0.0      0.00         1\n",
       "2         1         2 2022-11-20      0.00      0.00  0.0      0.00         1\n",
       "3         1         3 2022-12-20      0.00      0.00  0.0      0.00         1\n",
       "4         1         4 2023-01-20   5844.58  11610.23  0.0  17454.81         1\n",
       "5         1         5 2023-02-20   6309.57  11225.94  0.0  17535.51         1\n",
       "...     ...       ...        ...       ...       ...  ...       ...       ...\n",
       "2726    152        14 2024-08-20  10337.92   7817.81  0.0  18155.72         1\n",
       "2727    152        15 2024-09-20  11520.26   6840.66  0.0  18360.92         1\n",
       "2728    152        16 2024-10-20  12837.84   5751.76  0.0  18589.59         1\n",
       "2729    152        17 2024-11-20  14306.10   4538.31  0.0  18844.41         1\n",
       "2730    152        18 2024-12-20  15942.29   3186.09  0.0  19128.38         1\n",
       "\n",
       "[2730 rows x 8 columns]"
      ]
     },
     "execution_count": 18,
     "metadata": {},
     "output_type": "execute_result"
    }
   ],
   "source": [
    "from app.modules.database.credit_manager import credits_balance\n",
    "balance = credits_balance()\n",
    "print(f'Deuda Total: $ {balance['Total'].sum():,.2f}')\n",
    "\n",
    "# balance[['Capital', 'Interest', 'IVA', 'Total']] = balance[['Capital', 'Interest', 'IVA', 'Total']].map('${:,.2f}'.format)\n",
    "balance"
   ]
  },
  {
   "cell_type": "code",
   "execution_count": 19,
   "metadata": {},
   "outputs": [
    {
     "data": {
      "text/plain": [
       "ID_External                       15608\n",
       "ID_Client                             1\n",
       "Date_Settlement     2022-08-11 00:00:00\n",
       "ID_BP                                 2\n",
       "Cap_Requested                 187005.44\n",
       "Cap_Grant                     187005.44\n",
       "N_Inst                               18\n",
       "First_Inst_Purch                      4\n",
       "TEM_W_IVA                       0.07956\n",
       "V_Inst                         19892.96\n",
       "First_Inst_Sold                       0\n",
       "D_F_Due             2022-10-20 00:00:00\n",
       "ID_Purch                              1\n",
       "ID_Sale                            None\n",
       "Name: 1, dtype: object"
      ]
     },
     "execution_count": 19,
     "metadata": {},
     "output_type": "execute_result"
    }
   ],
   "source": [
    "credits = pd.read_sql('credits', engine, index_col='ID')\n",
    "\n",
    "credits.loc[1]"
   ]
  },
  {
   "cell_type": "code",
   "execution_count": 11,
   "metadata": {},
   "outputs": [
    {
     "data": {
      "text/plain": [
       "CUIL                                          20340672926\n",
       "DNI                                              34067292\n",
       "Last_Name                               Dominguez Chacana\n",
       "Name                                         Hugo Alfredo\n",
       "Gender                                               None\n",
       "Date_Birth                            1989-05-11 00:00:00\n",
       "Age_at_Discharge                                     33.0\n",
       "ID_Province                                             1\n",
       "Locality                                  ALTO LA POLVORA\n",
       "Street               AV. SARMIENTO 525 10 B BLOCK B S/N  \n",
       "Nro                                                 525.0\n",
       "CP                                                   4000\n",
       "Feature                                              None\n",
       "Telephone                                      3816008165\n",
       "Seniority                                            None\n",
       "Salary                                           80524.56\n",
       "CBU                                                  None\n",
       "Collection_Entity                            Decreto 1412\n",
       "Employer                                             None\n",
       "Dependence                                           None\n",
       "CUIT_Employer                                        None\n",
       "ID_Empl_Prov                                          6.0\n",
       "Empl_Loc                                  ALTO LA POLVORA\n",
       "Empl_Adress                                          None\n",
       "Last_Update                           2024-12-26 16:29:46\n",
       "Name: 1, dtype: object"
      ]
     },
     "execution_count": 11,
     "metadata": {},
     "output_type": "execute_result"
    }
   ],
   "source": [
    "customers = pd.read_sql('customers', engine, index_col='ID')\n",
    "\n",
    "customers.loc[1]"
   ]
  },
  {
   "cell_type": "code",
   "execution_count": 15,
   "metadata": {},
   "outputs": [
    {
     "ename": "ResourceError",
     "evalue": "There are no credits without recourse for the customer (CUIL: 20340672926).",
     "output_type": "error",
     "traceback": [
      "\u001b[1;31m---------------------------------------------------------------------------\u001b[0m",
      "\u001b[1;31mResourceError\u001b[0m                             Traceback (most recent call last)",
      "Cell \u001b[1;32mIn[15], line 3\u001b[0m\n\u001b[0;32m      1\u001b[0m reload(credit_manager)\n\u001b[1;32m----> 3\u001b[0m \u001b[43mcredit_manager\u001b[49m\u001b[38;5;241;43m.\u001b[39;49m\u001b[43mcharging\u001b[49m\u001b[43m(\u001b[49m\u001b[43mcredit_manager\u001b[49m\u001b[38;5;241;43m.\u001b[39;49m\u001b[43mTypeDataCollection\u001b[49m\u001b[38;5;241;43m.\u001b[39;49m\u001b[43mCUIL\u001b[49m\u001b[43m,\u001b[49m\u001b[43m \u001b[49m\u001b[38;5;241;43m20340672926\u001b[39;49m\u001b[43m,\u001b[49m\u001b[43m \u001b[49m\u001b[38;5;241;43m1000\u001b[39;49m\u001b[43m,\u001b[49m\u001b[43m \u001b[49m\u001b[38;5;241;43m2\u001b[39;49m\u001b[43m,\u001b[49m\u001b[43m \u001b[49m\u001b[43mpd\u001b[49m\u001b[38;5;241;43m.\u001b[39;49m\u001b[43mTimestamp\u001b[49m\u001b[43m(\u001b[49m\u001b[38;5;124;43m\"\u001b[39;49m\u001b[38;5;124;43m2024/12/27\u001b[39;49m\u001b[38;5;124;43m\"\u001b[39;49m\u001b[43m,\u001b[49m\u001b[43m \u001b[49m\u001b[43munit\u001b[49m\u001b[38;5;241;43m=\u001b[39;49m\u001b[38;5;124;43m'\u001b[39;49m\u001b[38;5;124;43mD\u001b[39;49m\u001b[38;5;124;43m'\u001b[39;49m\u001b[43m)\u001b[49m\u001b[43m)\u001b[49m\n",
      "File \u001b[1;32mc:\\Users\\juanm_8qa8lav\\Documents\\Proyectos_Personales\\FinancialApp\\app\\modules\\database\\credit_manager.py:540\u001b[0m, in \u001b[0;36mcharging\u001b[1;34m(ident_type, identifier, amount, id_supplier, date, save)\u001b[0m\n\u001b[0;32m    537\u001b[0m id_credits \u001b[38;5;241m=\u001b[39m [\u001b[38;5;28mid\u001b[39m \u001b[38;5;28;01mfor\u001b[39;00m \u001b[38;5;28mid\u001b[39m, resource \u001b[38;5;129;01min\u001b[39;00m \u001b[38;5;28mzip\u001b[39m(id_credits, resources) \u001b[38;5;28;01mif\u001b[39;00m resource \u001b[38;5;241m!=\u001b[39m \u001b[38;5;241m1\u001b[39m]\n\u001b[0;32m    539\u001b[0m \u001b[38;5;28;01mif\u001b[39;00m (\u001b[38;5;28mlen\u001b[39m(id_credits) \u001b[38;5;241m==\u001b[39m \u001b[38;5;241m0\u001b[39m) \u001b[38;5;129;01mand\u001b[39;00m (num_credit \u001b[38;5;241m>\u001b[39m \u001b[38;5;241m0\u001b[39m):\n\u001b[1;32m--> 540\u001b[0m     \u001b[38;5;28;01mraise\u001b[39;00m ResourceError(ident_type, identifier)\n\u001b[0;32m    542\u001b[0m \u001b[38;5;66;03m# Retrieve and prepare the balance for the credits\u001b[39;00m\n\u001b[0;32m    543\u001b[0m balance \u001b[38;5;241m=\u001b[39m _prepare_balance(id_credits)\n",
      "\u001b[1;31mResourceError\u001b[0m: There are no credits without recourse for the customer (CUIL: 20340672926)."
     ]
    }
   ],
   "source": [
    "reload(credit_manager)\n",
    "\n",
    "credit_manager.charging(credit_manager.TypeDataCollection.CUIL, 20340672926, 1000, 2, pd.Timestamp(\"2024/12/27\", unit='D'))"
   ]
  }
 ],
 "metadata": {
  "kernelspec": {
   "display_name": "fa_env",
   "language": "python",
   "name": "python3"
  },
  "language_info": {
   "codemirror_mode": {
    "name": "ipython",
    "version": 3
   },
   "file_extension": ".py",
   "mimetype": "text/x-python",
   "name": "python",
   "nbconvert_exporter": "python",
   "pygments_lexer": "ipython3",
   "version": "3.12.0"
  }
 },
 "nbformat": 4,
 "nbformat_minor": 2
}
