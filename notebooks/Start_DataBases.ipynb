{
 "cells": [
  {
   "cell_type": "markdown",
   "metadata": {},
   "source": [
    "# Financial App"
   ]
  },
  {
   "cell_type": "code",
   "execution_count": null,
   "metadata": {},
   "outputs": [],
   "source": [
    "import os\n",
    "import pandas as pd\n",
    "\n",
    "# Change working directory to the project root\n",
    "os.chdir(r\"c:\\Users\\juanm_8qa8lav\\Documents\\Proyectos_Personales\\FinancialApp\")\n",
    "\n",
    "# Import your module\n",
    "from app.modules.database.connection import engine\n",
    "from app.modules.database.customers import add_customer\n",
    "from sqlalchemy.orm import sessionmaker\n",
    "from sqlalchemy import update\n",
    "\n",
    "from app.modules.database.structur_databases import Customer\n",
    "\n",
    "# %run logs/run_log.py"
   ]
  }
 ],
 "metadata": {
  "kernelspec": {
   "display_name": "fa_env",
   "language": "python",
   "name": "python3"
  },
  "language_info": {
   "codemirror_mode": {
    "name": "ipython",
    "version": 3
   },
   "file_extension": ".py",
   "mimetype": "text/x-python",
   "name": "python",
   "nbconvert_exporter": "python",
   "pygments_lexer": "ipython3",
   "version": "3.12.0"
  }
 },
 "nbformat": 4,
 "nbformat_minor": 2
}
