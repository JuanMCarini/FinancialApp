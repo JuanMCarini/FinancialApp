{
 "cells": [
  {
   "cell_type": "markdown",
   "metadata": {},
   "source": [
    "# Analysis"
   ]
  },
  {
   "cell_type": "code",
   "execution_count": 1,
   "metadata": {},
   "outputs": [
    {
     "name": "stdout",
     "output_type": "stream",
     "text": [
      "Now in directory: c:\\Users\\juanm_8qa8lav\\Documents\\Proyectos_Personales\\FinancialApp\n",
      "Capital: $ 43,723,832.79\n",
      "Interés: $ 39,623,640.79\n",
      "IVA: $ 8,320,964.45\n",
      "Total: $ 91,668,438.51\n"
     ]
    }
   ],
   "source": [
    "import os\n",
    "import pandas as pd\n",
    "from importlib import reload\n",
    "\n",
    "# Get the current working directory\n",
    "os.chdir(\"c:/Users/juanm_8qa8lav/Documents/Proyectos_Personales/FinancialApp\")\n",
    "# Verify the current working directory\n",
    "print(f\"Now in directory: {os.getcwd()}\")\n",
    "\n",
    "# Import your module\n",
    "from app.modules.database.credit_manager import credits_balance\n",
    "\n",
    "balance = credits_balance()\n",
    "balance['D_Due'] = balance['D_Due'].dt.to_period('D')\n",
    "\n",
    "print(f'Capital: $ {balance['Capital'].sum():,.2f}')\n",
    "print(f'Interés: $ {balance['Interest'].sum():,.2f}')\n",
    "print(f'IVA: $ {balance['IVA'].sum():,.2f}')\n",
    "print(f'Total: $ {balance['Total'].sum():,.2f}')"
   ]
  },
  {
   "cell_type": "code",
   "execution_count": 2,
   "metadata": {},
   "outputs": [
    {
     "name": "stdout",
     "output_type": "stream",
     "text": [
      "Selected file: C:/Users/juanm_8qa8lav/Documents/Proyectos_Personales/FinancialApp/inputs/Legajos/9080 - AMUF - LOPEZ CECILIA DE LAS MERCEDES.pdf\n"
     ]
    }
   ],
   "source": [
    "import tkinter as tk\n",
    "from tkinter import filedialog\n",
    "\n",
    "def seleccionar_archivo():\n",
    "    \"\"\"\n",
    "    Opens a Windows file dialog in the foreground (always on top).\n",
    "    Returns the full path to the selected file or an empty string if canceled.\n",
    "    \"\"\"\n",
    "    # Create the root window\n",
    "    root = tk.Tk()\n",
    "    \n",
    "    # Make the root window always on top\n",
    "    root.attributes(\"-topmost\", True)\n",
    "    # Hide the root window so it's not visible\n",
    "    root.withdraw()\n",
    "    # Raise it to the front of the window stack\n",
    "    root.lift()\n",
    "\n",
    "    # Open the \"Open File\" dialog with the root as the parent\n",
    "    ruta_archivo = filedialog.askopenfilename(\n",
    "        title=\"Seleccionar un archivo\",\n",
    "        filetypes=[(\"All Files\", \"*.*\")],\n",
    "        parent=root\n",
    "    )\n",
    "\n",
    "    # Destroy the root window to free resources\n",
    "    root.destroy()\n",
    "\n",
    "    if ruta_archivo:\n",
    "        print(f\"Selected file: {ruta_archivo}\")\n",
    "    else:\n",
    "        print(\"No file was selected.\")\n",
    "        \n",
    "    # Return the selected path (or empty string if canceled)\n",
    "    return ruta_archivo\n",
    "\n",
    "path = seleccionar_archivo()"
   ]
  },
  {
   "cell_type": "code",
   "execution_count": 3,
   "metadata": {},
   "outputs": [
    {
     "ename": "PDFPageCountError",
     "evalue": "Unable to get page count.\nI/O Error: Couldn't open file 'docs/cedula_completa.pdf': No such file or directory.\r\n",
     "output_type": "error",
     "traceback": [
      "\u001b[31m---------------------------------------------------------------------------\u001b[39m",
      "\u001b[31mValueError\u001b[39m                                Traceback (most recent call last)",
      "\u001b[36mFile \u001b[39m\u001b[32mc:\\Users\\juanm_8qa8lav\\Documents\\Proyectos_Personales\\FinancialApp\\fa_env\\Lib\\site-packages\\pdf2image\\pdf2image.py:602\u001b[39m, in \u001b[36mpdfinfo_from_path\u001b[39m\u001b[34m(pdf_path, userpw, ownerpw, poppler_path, rawdates, timeout, first_page, last_page)\u001b[39m\n\u001b[32m    601\u001b[39m \u001b[38;5;28;01mif\u001b[39;00m \u001b[33m\"\u001b[39m\u001b[33mPages\u001b[39m\u001b[33m\"\u001b[39m \u001b[38;5;129;01mnot\u001b[39;00m \u001b[38;5;129;01min\u001b[39;00m d:\n\u001b[32m--> \u001b[39m\u001b[32m602\u001b[39m     \u001b[38;5;28;01mraise\u001b[39;00m \u001b[38;5;167;01mValueError\u001b[39;00m\n\u001b[32m    604\u001b[39m \u001b[38;5;28;01mreturn\u001b[39;00m d\n",
      "\u001b[31mValueError\u001b[39m: ",
      "\nDuring handling of the above exception, another exception occurred:\n",
      "\u001b[31mPDFPageCountError\u001b[39m                         Traceback (most recent call last)",
      "\u001b[36mCell\u001b[39m\u001b[36m \u001b[39m\u001b[32mIn[3]\u001b[39m\u001b[32m, line 3\u001b[39m\n\u001b[32m      1\u001b[39m \u001b[38;5;28;01mfrom\u001b[39;00m\u001b[38;5;250m \u001b[39m\u001b[34;01mapp\u001b[39;00m\u001b[34;01m.\u001b[39;00m\u001b[34;01mmodules\u001b[39;00m\u001b[34;01m.\u001b[39;00m\u001b[34;01mdatabase\u001b[39;00m\u001b[34;01m.\u001b[39;00m\u001b[34;01mpdf_ocr_mistral\u001b[39;00m\u001b[38;5;250m \u001b[39m\u001b[38;5;28;01mimport\u001b[39;00m ask_question_about_pdf\n\u001b[32m----> \u001b[39m\u001b[32m3\u001b[39m respuesta = \u001b[43mask_question_about_pdf\u001b[49m\u001b[43m(\u001b[49m\u001b[33;43m\"\u001b[39;49m\u001b[33;43mdocs/cedula_completa.pdf\u001b[39;49m\u001b[33;43m\"\u001b[39;49m\u001b[43m,\u001b[49m\u001b[43m \u001b[49m\u001b[33;43m\"\u001b[39;49m\u001b[33;43m¿Cuál es la fecha de vencimiento?\u001b[39;49m\u001b[33;43m\"\u001b[39;49m\u001b[43m)\u001b[49m\n\u001b[32m      4\u001b[39m \u001b[38;5;28mprint\u001b[39m(respuesta)\n",
      "\u001b[36mFile \u001b[39m\u001b[32mc:\\Users\\juanm_8qa8lav\\Documents\\Proyectos_Personales\\FinancialApp\\app\\modules\\database\\pdf_ocr_mistral.py:77\u001b[39m, in \u001b[36mask_question_about_pdf\u001b[39m\u001b[34m(pdf_path, question, lang)\u001b[39m\n\u001b[32m     65\u001b[39m \u001b[38;5;28;01mdef\u001b[39;00m\u001b[38;5;250m \u001b[39m\u001b[34mask_question_about_pdf\u001b[39m(pdf_path: \u001b[38;5;28mstr\u001b[39m, question: \u001b[38;5;28mstr\u001b[39m, lang: \u001b[38;5;28mstr\u001b[39m = \u001b[33m\"\u001b[39m\u001b[33mspa\u001b[39m\u001b[33m\"\u001b[39m) -> \u001b[38;5;28mstr\u001b[39m:\n\u001b[32m     66\u001b[39m \u001b[38;5;250m    \u001b[39m\u001b[33;03m\"\"\"\u001b[39;00m\n\u001b[32m     67\u001b[39m \u001b[33;03m    Extracts text from a scanned or complex PDF using OCR and asks a question to Mistral based on context.\u001b[39;00m\n\u001b[32m     68\u001b[39m \n\u001b[32m   (...)\u001b[39m\u001b[32m     75\u001b[39m \u001b[33;03m    - str: Mistral's answer.\u001b[39;00m\n\u001b[32m     76\u001b[39m \u001b[33;03m    \"\"\"\u001b[39;00m\n\u001b[32m---> \u001b[39m\u001b[32m77\u001b[39m     raw_text = \u001b[43mextract_text_from_pdf_ocr\u001b[49m\u001b[43m(\u001b[49m\u001b[43mpdf_path\u001b[49m\u001b[43m,\u001b[49m\u001b[43m \u001b[49m\u001b[43mlang\u001b[49m\u001b[43m)\u001b[49m\n\u001b[32m     78\u001b[39m     cleaned_text = clean_pdf_text(raw_text)\n\u001b[32m     79\u001b[39m     chunks = split_text(cleaned_text)\n",
      "\u001b[36mFile \u001b[39m\u001b[32mc:\\Users\\juanm_8qa8lav\\Documents\\Proyectos_Personales\\FinancialApp\\app\\modules\\database\\pdf_ocr_mistral.py:20\u001b[39m, in \u001b[36mextract_text_from_pdf_ocr\u001b[39m\u001b[34m(pdf_path, lang)\u001b[39m\n\u001b[32m      9\u001b[39m \u001b[38;5;28;01mdef\u001b[39;00m\u001b[38;5;250m \u001b[39m\u001b[34mextract_text_from_pdf_ocr\u001b[39m(pdf_path: \u001b[38;5;28mstr\u001b[39m, lang: \u001b[38;5;28mstr\u001b[39m = \u001b[33m\"\u001b[39m\u001b[33mspa\u001b[39m\u001b[33m\"\u001b[39m) -> \u001b[38;5;28mstr\u001b[39m:\n\u001b[32m     10\u001b[39m \u001b[38;5;250m    \u001b[39m\u001b[33;03m\"\"\"\u001b[39;00m\n\u001b[32m     11\u001b[39m \u001b[33;03m    Extracts text from each page of a PDF using OCR on rendered images.\u001b[39;00m\n\u001b[32m     12\u001b[39m \n\u001b[32m   (...)\u001b[39m\u001b[32m     18\u001b[39m \u001b[33;03m    - str: Combined OCR text from all pages.\u001b[39;00m\n\u001b[32m     19\u001b[39m \u001b[33;03m    \"\"\"\u001b[39;00m\n\u001b[32m---> \u001b[39m\u001b[32m20\u001b[39m     pages = \u001b[43mconvert_from_path\u001b[49m\u001b[43m(\u001b[49m\u001b[43mpdf_path\u001b[49m\u001b[43m,\u001b[49m\u001b[43m \u001b[49m\u001b[43mdpi\u001b[49m\u001b[43m=\u001b[49m\u001b[32;43m300\u001b[39;49m\u001b[43m)\u001b[49m\n\u001b[32m     21\u001b[39m     all_text = []\n\u001b[32m     23\u001b[39m     \u001b[38;5;28;01mfor\u001b[39;00m i, page \u001b[38;5;129;01min\u001b[39;00m \u001b[38;5;28menumerate\u001b[39m(pages):\n",
      "\u001b[36mFile \u001b[39m\u001b[32mc:\\Users\\juanm_8qa8lav\\Documents\\Proyectos_Personales\\FinancialApp\\fa_env\\Lib\\site-packages\\pdf2image\\pdf2image.py:127\u001b[39m, in \u001b[36mconvert_from_path\u001b[39m\u001b[34m(pdf_path, dpi, output_folder, first_page, last_page, fmt, jpegopt, thread_count, userpw, ownerpw, use_cropbox, strict, transparent, single_file, output_file, poppler_path, grayscale, size, paths_only, use_pdftocairo, timeout, hide_annotations)\u001b[39m\n\u001b[32m    124\u001b[39m \u001b[38;5;28;01mif\u001b[39;00m \u001b[38;5;28misinstance\u001b[39m(poppler_path, PurePath):\n\u001b[32m    125\u001b[39m     poppler_path = poppler_path.as_posix()\n\u001b[32m--> \u001b[39m\u001b[32m127\u001b[39m page_count = \u001b[43mpdfinfo_from_path\u001b[49m\u001b[43m(\u001b[49m\n\u001b[32m    128\u001b[39m \u001b[43m    \u001b[49m\u001b[43mpdf_path\u001b[49m\u001b[43m,\u001b[49m\u001b[43m \u001b[49m\u001b[43muserpw\u001b[49m\u001b[43m,\u001b[49m\u001b[43m \u001b[49m\u001b[43mownerpw\u001b[49m\u001b[43m,\u001b[49m\u001b[43m \u001b[49m\u001b[43mpoppler_path\u001b[49m\u001b[43m=\u001b[49m\u001b[43mpoppler_path\u001b[49m\n\u001b[32m    129\u001b[39m \u001b[43m\u001b[49m\u001b[43m)\u001b[49m[\u001b[33m\"\u001b[39m\u001b[33mPages\u001b[39m\u001b[33m\"\u001b[39m]\n\u001b[32m    131\u001b[39m \u001b[38;5;66;03m# We start by getting the output format, the buffer processing function and if we need pdftocairo\u001b[39;00m\n\u001b[32m    132\u001b[39m parsed_fmt, final_extension, parse_buffer_func, use_pdfcairo_format = _parse_format(\n\u001b[32m    133\u001b[39m     fmt, grayscale\n\u001b[32m    134\u001b[39m )\n",
      "\u001b[36mFile \u001b[39m\u001b[32mc:\\Users\\juanm_8qa8lav\\Documents\\Proyectos_Personales\\FinancialApp\\fa_env\\Lib\\site-packages\\pdf2image\\pdf2image.py:611\u001b[39m, in \u001b[36mpdfinfo_from_path\u001b[39m\u001b[34m(pdf_path, userpw, ownerpw, poppler_path, rawdates, timeout, first_page, last_page)\u001b[39m\n\u001b[32m    607\u001b[39m     \u001b[38;5;28;01mraise\u001b[39;00m PDFInfoNotInstalledError(\n\u001b[32m    608\u001b[39m         \u001b[33m\"\u001b[39m\u001b[33mUnable to get page count. Is poppler installed and in PATH?\u001b[39m\u001b[33m\"\u001b[39m\n\u001b[32m    609\u001b[39m     )\n\u001b[32m    610\u001b[39m \u001b[38;5;28;01mexcept\u001b[39;00m \u001b[38;5;167;01mValueError\u001b[39;00m:\n\u001b[32m--> \u001b[39m\u001b[32m611\u001b[39m     \u001b[38;5;28;01mraise\u001b[39;00m PDFPageCountError(\n\u001b[32m    612\u001b[39m         \u001b[33mf\u001b[39m\u001b[33m\"\u001b[39m\u001b[33mUnable to get page count.\u001b[39m\u001b[38;5;130;01m\\n\u001b[39;00m\u001b[38;5;132;01m{\u001b[39;00merr.decode(\u001b[33m'\u001b[39m\u001b[33mutf8\u001b[39m\u001b[33m'\u001b[39m,\u001b[38;5;250m \u001b[39m\u001b[33m'\u001b[39m\u001b[33mignore\u001b[39m\u001b[33m'\u001b[39m)\u001b[38;5;132;01m}\u001b[39;00m\u001b[33m\"\u001b[39m\n\u001b[32m    613\u001b[39m     )\n",
      "\u001b[31mPDFPageCountError\u001b[39m: Unable to get page count.\nI/O Error: Couldn't open file 'docs/cedula_completa.pdf': No such file or directory.\r\n"
     ]
    }
   ],
   "source": [
    "from app.modules.database.pdf_ocr_mistral import ask_question_about_pdf\n",
    "\n",
    "respuesta = ask_question_about_pdf(\"docs/cedula_completa.pdf\", \"¿Cuál es la fecha de vencimiento?\")\n",
    "print(respuesta)\n"
   ]
  }
 ],
 "metadata": {
  "kernelspec": {
   "display_name": "fa_env",
   "language": "python",
   "name": "python3"
  },
  "language_info": {
   "codemirror_mode": {
    "name": "ipython",
    "version": 3
   },
   "file_extension": ".py",
   "mimetype": "text/x-python",
   "name": "python",
   "nbconvert_exporter": "python",
   "pygments_lexer": "ipython3",
   "version": "3.13.2"
  }
 },
 "nbformat": 4,
 "nbformat_minor": 2
}
