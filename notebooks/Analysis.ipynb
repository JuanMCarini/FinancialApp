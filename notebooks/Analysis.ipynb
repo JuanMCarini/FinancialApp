{
 "cells": [
  {
   "cell_type": "markdown",
   "metadata": {},
   "source": [
    "# Analysis"
   ]
  },
  {
   "cell_type": "code",
   "execution_count": 1,
   "metadata": {},
   "outputs": [
    {
     "name": "stdout",
     "output_type": "stream",
     "text": [
      "Now in directory: c:\\Users\\juanm_8qa8lav\\Documents\\Proyectos_Personales\\FinancialApp\n",
      "Capital: $ 34,891,606.64\n",
      "Interés: $ 31,843,591.08\n",
      "IVA: $ 6,687,154.04\n",
      "Total: $ 73,422,351.89\n"
     ]
    }
   ],
   "source": [
    "import os\n",
    "import pandas as pd\n",
    "from importlib import reload\n",
    "\n",
    "# Get the current working directory\n",
    "os.chdir(\"c:/Users/juanm_8qa8lav/Documents/Proyectos_Personales/FinancialApp\")\n",
    "# Verify the current working directory\n",
    "print(f\"Now in directory: {os.getcwd()}\")\n",
    "\n",
    "# Import your module\n",
    "from app.modules.database.connection import engine\n",
    "from app.modules.database.reports import pp, customers, credits, collections, installments, companies, bp, companies, portfolio_inventory\n",
    "from app.modules.database.credit_manager import credits_balance\n",
    "from app.modules.database.portfolio_manager import portfolio_seller\n",
    "\n",
    "balance = credits_balance()\n",
    "balance['D_Due'] = balance['D_Due'].dt.to_period('D')\n",
    "\n",
    "print(f'Capital: $ {balance['Capital'].sum():,.2f}')\n",
    "print(f'Interés: $ {balance['Interest'].sum():,.2f}')\n",
    "print(f'IVA: $ {balance['IVA'].sum():,.2f}')\n",
    "print(f'Total: $ {balance['Total'].sum():,.2f}')"
   ]
  },
  {
   "cell_type": "code",
   "execution_count": 2,
   "metadata": {},
   "outputs": [
    {
     "name": "stdout",
     "output_type": "stream",
     "text": [
      "TIR: 4.33%\n"
     ]
    }
   ],
   "source": [
    "date = pd.Period.now('D')\n",
    "\n",
    "tna = 0.6\n",
    "va = 20e6\n",
    "\n",
    "inst, crts, cust  = portfolio_seller(date, tna, va, 2, save=False)\n",
    "# Falta armar los reportes de la venta. "
   ]
  }
 ],
 "metadata": {
  "kernelspec": {
   "display_name": "fa_env",
   "language": "python",
   "name": "python3"
  },
  "language_info": {
   "codemirror_mode": {
    "name": "ipython",
    "version": 3
   },
   "file_extension": ".py",
   "mimetype": "text/x-python",
   "name": "python",
   "nbconvert_exporter": "python",
   "pygments_lexer": "ipython3",
   "version": "3.12.0"
  }
 },
 "nbformat": 4,
 "nbformat_minor": 2
}
